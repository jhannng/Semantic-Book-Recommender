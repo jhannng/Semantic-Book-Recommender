{
 "cells": [
  {
   "cell_type": "code",
   "execution_count": 1,
   "id": "ed875942",
   "metadata": {},
   "outputs": [
    {
     "name": "stderr",
     "output_type": "stream",
     "text": [
      "/Users/jkhang/Documents/GitHub/Semantic-Book-Recommender/venv/lib/python3.9/site-packages/urllib3/__init__.py:35: NotOpenSSLWarning: urllib3 v2 only supports OpenSSL 1.1.1+, currently the 'ssl' module is compiled with 'LibreSSL 2.8.3'. See: https://github.com/urllib3/urllib3/issues/3020\n",
      "  warnings.warn(\n",
      "/Users/jkhang/Documents/GitHub/Semantic-Book-Recommender/venv/lib/python3.9/site-packages/tqdm/auto.py:21: TqdmWarning: IProgress not found. Please update jupyter and ipywidgets. See https://ipywidgets.readthedocs.io/en/stable/user_install.html\n",
      "  from .autonotebook import tqdm as notebook_tqdm\n"
     ]
    }
   ],
   "source": [
    "# Necessary Libraries for Text Classification\n",
    "from dotenv import load_dotenv\n",
    "\n",
    "import numpy as np\n",
    "import pandas as pd\n",
    "\n",
    "import torch\n",
    "from tqdm import tqdm\n",
    "from transformers import pipeline"
   ]
  },
  {
   "cell_type": "code",
   "execution_count": 2,
   "id": "ea737558",
   "metadata": {},
   "outputs": [],
   "source": [
    "# Constant Variable\n",
    "BOOKS_DATASET_PATH = \"./dataset/books_with_categories.csv\"\n",
    "EMOTION_LABELS = [\"anger\", \"disgust\", \"fear\", \"joy\", \"sadness\", \"surprise\", \"neutral\"]"
   ]
  },
  {
   "cell_type": "code",
   "execution_count": 3,
   "id": "12c56fd9",
   "metadata": {},
   "outputs": [],
   "source": [
    "# Dataset Setup for Data Exploration\n",
    "books_dataset = pd.read_csv(BOOKS_DATASET_PATH)"
   ]
  },
  {
   "cell_type": "code",
   "execution_count": 4,
   "id": "e52067b3",
   "metadata": {},
   "outputs": [
    {
     "name": "stderr",
     "output_type": "stream",
     "text": [
      "Device set to use mps\n"
     ]
    },
    {
     "data": {
      "text/plain": [
       "[[{'label': 'surprise', 'score': 0.4869694709777832},\n",
       "  {'label': 'neutral', 'score': 0.22344161570072174},\n",
       "  {'label': 'joy', 'score': 0.14913079142570496},\n",
       "  {'label': 'anger', 'score': 0.07174032181501389},\n",
       "  {'label': 'sadness', 'score': 0.04664654657244682},\n",
       "  {'label': 'disgust', 'score': 0.016297748312354088},\n",
       "  {'label': 'fear', 'score': 0.005773564800620079}]]"
      ]
     },
     "execution_count": 4,
     "metadata": {},
     "output_type": "execute_result"
    }
   ],
   "source": [
    "# Setup the pipeline of Text Classification\n",
    "classifier = pipeline(\"text-classification\", model = \"j-hartmann/emotion-english-distilroberta-base\", top_k = None, device = \"mps\")\n",
    "classifier(\"I love this!\")"
   ]
  },
  {
   "cell_type": "code",
   "execution_count": 5,
   "id": "a19c4707",
   "metadata": {},
   "outputs": [
    {
     "data": {
      "text/plain": [
       "('A NOVEL THAT READERS and critics have been eagerly anticipating for over a decade, Gilead is an astonishingly imagined story of remarkable lives',\n",
       " [{'label': 'surprise', 'score': 0.7296028733253479},\n",
       "  {'label': 'neutral', 'score': 0.14038552343845367},\n",
       "  {'label': 'fear', 'score': 0.0681622177362442},\n",
       "  {'label': 'joy', 'score': 0.04794244095683098},\n",
       "  {'label': 'anger', 'score': 0.009156350046396255},\n",
       "  {'label': 'disgust', 'score': 0.002628473099321127},\n",
       "  {'label': 'sadness', 'score': 0.0021221598144620657}])"
      ]
     },
     "execution_count": 5,
     "metadata": {},
     "output_type": "execute_result"
    }
   ],
   "source": [
    "# Test the classifier with the first book description from the dataset\n",
    "sentences = books_dataset[\"description\"][0].split(\".\")\n",
    "predictions = classifier(sentences)\n",
    "\n",
    "sentences[0], predictions[0]"
   ]
  },
  {
   "cell_type": "code",
   "execution_count": 6,
   "id": "b91fcea5",
   "metadata": {},
   "outputs": [],
   "source": [
    "# Extract emotions from descriptions of the books, then include the prediction in each respective columns\n",
    "def calculate_max_emotion_scores(predictions):\n",
    "    emotion_scores = {label: [] for label in EMOTION_LABELS}\n",
    "    \n",
    "    for prediction in predictions:\n",
    "        sorted_predictions = sorted(prediction, key = lambda x: x[\"label\"])\n",
    "\n",
    "        for idx, label in enumerate(EMOTION_LABELS):\n",
    "            emotion_scores[label].append(sorted_predictions[idx][\"score\"])\n",
    "\n",
    "    return {label: np.max(scores) for label, scores in emotion_scores.items()}"
   ]
  },
  {
   "cell_type": "code",
   "execution_count": 7,
   "id": "67ad6bfb",
   "metadata": {},
   "outputs": [
    {
     "name": "stderr",
     "output_type": "stream",
     "text": [
      "100%|██████████| 5197/5197 [05:44<00:00, 15.08it/s]\n"
     ]
    }
   ],
   "source": [
    "books_isbn = []\n",
    "pred_score = {label: [] for label in  EMOTION_LABELS}\n",
    "\n",
    "for idx in tqdm(range(len(books_dataset))):\n",
    "    books_isbn.append(books_dataset[\"isbn13\"][idx])\n",
    "    \n",
    "    sentences = books_dataset[\"description\"][idx].split(\".\")\n",
    "    predictions = classifier(sentences)\n",
    "    \n",
    "    max_emotion_scores = calculate_max_emotion_scores(predictions)\n",
    "    \n",
    "    for label in EMOTION_LABELS:\n",
    "        pred_score[label].append(max_emotion_scores[label])"
   ]
  },
  {
   "cell_type": "code",
   "execution_count": 8,
   "id": "77745dc5",
   "metadata": {},
   "outputs": [
    {
     "data": {
      "application/vnd.microsoft.datawrangler.viewer.v0+json": {
       "columns": [
        {
         "name": "index",
         "rawType": "int64",
         "type": "integer"
        },
        {
         "name": "anger",
         "rawType": "float64",
         "type": "float"
        },
        {
         "name": "disgust",
         "rawType": "float64",
         "type": "float"
        },
        {
         "name": "fear",
         "rawType": "float64",
         "type": "float"
        },
        {
         "name": "joy",
         "rawType": "float64",
         "type": "float"
        },
        {
         "name": "sadness",
         "rawType": "float64",
         "type": "float"
        },
        {
         "name": "surprise",
         "rawType": "float64",
         "type": "float"
        },
        {
         "name": "neutral",
         "rawType": "float64",
         "type": "float"
        },
        {
         "name": "isbn13",
         "rawType": "int64",
         "type": "integer"
        }
       ],
       "ref": "678ac69a-8eee-428f-a9d8-fc1fd6691a53",
       "rows": [
        [
         "0",
         "0.05197301506996155",
         "0.2735903263092041",
         "0.928168535232544",
         "0.9327977299690247",
         "0.6462162137031555",
         "0.9671575427055359",
         "0.7296028733253479",
         "9780002005883"
        ],
        [
         "1",
         "0.6126185059547424",
         "0.34828588366508484",
         "0.9425276517868042",
         "0.704421877861023",
         "0.887939453125",
         "0.07482504844665527",
         "0.2525448203086853",
         "9780002261982"
        ],
        [
         "2",
         "0.05197301506996155",
         "0.15766696631908417",
         "0.9723208546638489",
         "0.7672371864318848",
         "0.6089330911636353",
         "0.07482504844665527",
         "0.04693109914660454",
         "9780006178736"
        ],
        [
         "3",
         "0.35148298740386963",
         "0.15766696631908417",
         "0.3607071340084076",
         "0.2518808841705322",
         "0.7326866984367371",
         "0.07482504844665527",
         "0.04693109914660454",
         "9780006280897"
        ],
        [
         "4",
         "0.08141236007213593",
         "0.1844949722290039",
         "0.09504334628582001",
         "0.0352068766951561",
         "0.9259037375450134",
         "0.4758807420730591",
         "0.04693109914660454",
         "9780006280934"
        ],
        [
         "5",
         "0.23222509026527405",
         "0.7271745800971985",
         "0.03878667578101158",
         "0.04337571933865547",
         "0.621393084526062",
         "0.10239038616418839",
         "0.27190253138542175",
         "9780006380832"
        ],
        [
         "6",
         "0.5381847620010376",
         "0.15766696631908417",
         "0.7474280595779419",
         "0.8725652694702148",
         "0.7121942639350891",
         "0.40799927711486816",
         "0.07205010950565338",
         "9780006470229"
        ],
        [
         "7",
         "0.05197301506996155",
         "0.15766696631908417",
         "0.404496431350708",
         "0.020884115248918533",
         "0.6089330911636353",
         "0.8202818036079407",
         "0.23448775708675385",
         "9780006472612"
        ],
        [
         "8",
         "0.30067047476768494",
         "0.27948084473609924",
         "0.9155241250991821",
         "0.021228492259979248",
         "0.8402897119522095",
         "0.3544587790966034",
         "0.13561509549617767",
         "9780006482079"
        ],
        [
         "9",
         "0.05197301506996155",
         "0.17792603373527527",
         "0.04945683106780052",
         "0.03219762071967125",
         "0.8874107599258423",
         "0.07482504844665527",
         "0.047141849994659424",
         "9780006483014"
        ]
       ],
       "shape": {
        "columns": 8,
        "rows": 10
       }
      },
      "text/html": [
       "<div>\n",
       "<style scoped>\n",
       "    .dataframe tbody tr th:only-of-type {\n",
       "        vertical-align: middle;\n",
       "    }\n",
       "\n",
       "    .dataframe tbody tr th {\n",
       "        vertical-align: top;\n",
       "    }\n",
       "\n",
       "    .dataframe thead th {\n",
       "        text-align: right;\n",
       "    }\n",
       "</style>\n",
       "<table border=\"1\" class=\"dataframe\">\n",
       "  <thead>\n",
       "    <tr style=\"text-align: right;\">\n",
       "      <th></th>\n",
       "      <th>anger</th>\n",
       "      <th>disgust</th>\n",
       "      <th>fear</th>\n",
       "      <th>joy</th>\n",
       "      <th>sadness</th>\n",
       "      <th>surprise</th>\n",
       "      <th>neutral</th>\n",
       "      <th>isbn13</th>\n",
       "    </tr>\n",
       "  </thead>\n",
       "  <tbody>\n",
       "    <tr>\n",
       "      <th>0</th>\n",
       "      <td>0.051973</td>\n",
       "      <td>0.273590</td>\n",
       "      <td>0.928169</td>\n",
       "      <td>0.932798</td>\n",
       "      <td>0.646216</td>\n",
       "      <td>0.967158</td>\n",
       "      <td>0.729603</td>\n",
       "      <td>9780002005883</td>\n",
       "    </tr>\n",
       "    <tr>\n",
       "      <th>1</th>\n",
       "      <td>0.612619</td>\n",
       "      <td>0.348286</td>\n",
       "      <td>0.942528</td>\n",
       "      <td>0.704422</td>\n",
       "      <td>0.887939</td>\n",
       "      <td>0.074825</td>\n",
       "      <td>0.252545</td>\n",
       "      <td>9780002261982</td>\n",
       "    </tr>\n",
       "    <tr>\n",
       "      <th>2</th>\n",
       "      <td>0.051973</td>\n",
       "      <td>0.157667</td>\n",
       "      <td>0.972321</td>\n",
       "      <td>0.767237</td>\n",
       "      <td>0.608933</td>\n",
       "      <td>0.074825</td>\n",
       "      <td>0.046931</td>\n",
       "      <td>9780006178736</td>\n",
       "    </tr>\n",
       "    <tr>\n",
       "      <th>3</th>\n",
       "      <td>0.351483</td>\n",
       "      <td>0.157667</td>\n",
       "      <td>0.360707</td>\n",
       "      <td>0.251881</td>\n",
       "      <td>0.732687</td>\n",
       "      <td>0.074825</td>\n",
       "      <td>0.046931</td>\n",
       "      <td>9780006280897</td>\n",
       "    </tr>\n",
       "    <tr>\n",
       "      <th>4</th>\n",
       "      <td>0.081412</td>\n",
       "      <td>0.184495</td>\n",
       "      <td>0.095043</td>\n",
       "      <td>0.035207</td>\n",
       "      <td>0.925904</td>\n",
       "      <td>0.475881</td>\n",
       "      <td>0.046931</td>\n",
       "      <td>9780006280934</td>\n",
       "    </tr>\n",
       "    <tr>\n",
       "      <th>5</th>\n",
       "      <td>0.232225</td>\n",
       "      <td>0.727175</td>\n",
       "      <td>0.038787</td>\n",
       "      <td>0.043376</td>\n",
       "      <td>0.621393</td>\n",
       "      <td>0.102390</td>\n",
       "      <td>0.271903</td>\n",
       "      <td>9780006380832</td>\n",
       "    </tr>\n",
       "    <tr>\n",
       "      <th>6</th>\n",
       "      <td>0.538185</td>\n",
       "      <td>0.157667</td>\n",
       "      <td>0.747428</td>\n",
       "      <td>0.872565</td>\n",
       "      <td>0.712194</td>\n",
       "      <td>0.407999</td>\n",
       "      <td>0.072050</td>\n",
       "      <td>9780006470229</td>\n",
       "    </tr>\n",
       "    <tr>\n",
       "      <th>7</th>\n",
       "      <td>0.051973</td>\n",
       "      <td>0.157667</td>\n",
       "      <td>0.404496</td>\n",
       "      <td>0.020884</td>\n",
       "      <td>0.608933</td>\n",
       "      <td>0.820282</td>\n",
       "      <td>0.234488</td>\n",
       "      <td>9780006472612</td>\n",
       "    </tr>\n",
       "    <tr>\n",
       "      <th>8</th>\n",
       "      <td>0.300670</td>\n",
       "      <td>0.279481</td>\n",
       "      <td>0.915524</td>\n",
       "      <td>0.021228</td>\n",
       "      <td>0.840290</td>\n",
       "      <td>0.354459</td>\n",
       "      <td>0.135615</td>\n",
       "      <td>9780006482079</td>\n",
       "    </tr>\n",
       "    <tr>\n",
       "      <th>9</th>\n",
       "      <td>0.051973</td>\n",
       "      <td>0.177926</td>\n",
       "      <td>0.049457</td>\n",
       "      <td>0.032198</td>\n",
       "      <td>0.887411</td>\n",
       "      <td>0.074825</td>\n",
       "      <td>0.047142</td>\n",
       "      <td>9780006483014</td>\n",
       "    </tr>\n",
       "  </tbody>\n",
       "</table>\n",
       "</div>"
      ],
      "text/plain": [
       "      anger   disgust      fear       joy   sadness  surprise   neutral  \\\n",
       "0  0.051973  0.273590  0.928169  0.932798  0.646216  0.967158  0.729603   \n",
       "1  0.612619  0.348286  0.942528  0.704422  0.887939  0.074825  0.252545   \n",
       "2  0.051973  0.157667  0.972321  0.767237  0.608933  0.074825  0.046931   \n",
       "3  0.351483  0.157667  0.360707  0.251881  0.732687  0.074825  0.046931   \n",
       "4  0.081412  0.184495  0.095043  0.035207  0.925904  0.475881  0.046931   \n",
       "5  0.232225  0.727175  0.038787  0.043376  0.621393  0.102390  0.271903   \n",
       "6  0.538185  0.157667  0.747428  0.872565  0.712194  0.407999  0.072050   \n",
       "7  0.051973  0.157667  0.404496  0.020884  0.608933  0.820282  0.234488   \n",
       "8  0.300670  0.279481  0.915524  0.021228  0.840290  0.354459  0.135615   \n",
       "9  0.051973  0.177926  0.049457  0.032198  0.887411  0.074825  0.047142   \n",
       "\n",
       "          isbn13  \n",
       "0  9780002005883  \n",
       "1  9780002261982  \n",
       "2  9780006178736  \n",
       "3  9780006280897  \n",
       "4  9780006280934  \n",
       "5  9780006380832  \n",
       "6  9780006470229  \n",
       "7  9780006472612  \n",
       "8  9780006482079  \n",
       "9  9780006483014  "
      ]
     },
     "execution_count": 8,
     "metadata": {},
     "output_type": "execute_result"
    }
   ],
   "source": [
    "# Convert the predicted scores to a DataFrame\n",
    "pred_score_df = pd.DataFrame(pred_score)\n",
    "pred_score_df[\"isbn13\"] = books_isbn\n",
    "\n",
    "pred_score_df.head(10)"
   ]
  },
  {
   "cell_type": "code",
   "execution_count": 9,
   "id": "afbf0fd5",
   "metadata": {},
   "outputs": [],
   "source": [
    "# Merge the book dataset with the predicted max emotion scores\n",
    "books_dataset = pd.merge(books_dataset, pred_score_df, on = \"isbn13\")"
   ]
  },
  {
   "cell_type": "code",
   "execution_count": 10,
   "id": "75917fc5",
   "metadata": {},
   "outputs": [],
   "source": [
    "# Save the Emotions Dataset\n",
    "books_dataset.to_csv(\"/Users/jkhang/Documents/GitHub/Semantic-Book-Recommender/dataset/books_with_emotions.csv\", index = False)"
   ]
  }
 ],
 "metadata": {
  "kernelspec": {
   "display_name": "venv",
   "language": "python",
   "name": "python3"
  },
  "language_info": {
   "codemirror_mode": {
    "name": "ipython",
    "version": 3
   },
   "file_extension": ".py",
   "mimetype": "text/x-python",
   "name": "python",
   "nbconvert_exporter": "python",
   "pygments_lexer": "ipython3",
   "version": "3.9.6"
  }
 },
 "nbformat": 4,
 "nbformat_minor": 5
}
